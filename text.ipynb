{
 "cells": [
  {
   "cell_type": "code",
   "execution_count": 41,
   "metadata": {},
   "outputs": [],
   "source": [
    "\n",
    "import fitz  # PyMuPDF\n",
    "\n",
    "def extracting_text_from_invoicepdf(invoicepdf_path):\n",
    "    form = fitz.open(invoicepdf_path)\n",
    "    text = \"\"\n",
    "    for pages in range(len(form)):\n",
    "        page = form.load_page(pages)\n",
    "        text += page.get_text() \n",
    "    return text"
   ]
  },
  {
   "cell_type": "code",
   "execution_count": 42,
   "metadata": {},
   "outputs": [],
   "source": [
    "from sklearn.feature_extraction.text import TfidfVectorizer\n",
    "\n",
    "def Convert_textdocuments_into_numericalvectors(texts):\n",
    "    tfidf_vectorizer = TfidfVectorizer()\n",
    "    text_vectors = tfidf_vectorizer.fit_transform(texts)\n",
    "    return text_vectors"
   ]
  },
  {
   "cell_type": "code",
   "execution_count": 46,
   "metadata": {},
   "outputs": [],
   "source": [
    "from sklearn.metrics.pairwise import cosine_similarity\n",
    "\n",
    "def finding_most_similar_invoice(new_invoice_text, existing_invoices_texts):\n",
    "    texts = existing_invoices_texts + [new_invoice_text]\n",
    "    vectors = vectorize_texts(texts)\n",
    "    similarities = cosine_similarity(vectors[-1], vectors[:-1])\n",
    "    most_similar_index = similarities.argmax()\n",
    "    return most_similar_index"
   ]
  },
  {
   "cell_type": "code",
   "execution_count": 48,
   "metadata": {},
   "outputs": [
    {
     "name": "stdout",
     "output_type": "stream",
     "text": [
      "The most similar invoice is: C:\\Users\\91830\\OneDrive\\Desktop\\NLP\\document similarity\\train\\invoice_102856.pdf\n"
     ]
    }
   ],
   "source": [
    "\n",
    "train_invoice_paths = [r'C:\\Users\\91830\\OneDrive\\Desktop\\NLP\\document similarity\\train\\2024.03.15_0954.pdf',\n",
    "                          r'C:\\Users\\91830\\OneDrive\\Desktop\\NLP\\document similarity\\train\\2024.03.15_1145.pdf',\n",
    "                          r'C:\\Users\\91830\\OneDrive\\Desktop\\NLP\\document similarity\\train\\Faller_8.PDF',\n",
    "                          r'C:\\Users\\91830\\OneDrive\\Desktop\\NLP\\document similarity\\train\\invoice_77073.pdf',\n",
    "                          r'C:\\Users\\91830\\OneDrive\\Desktop\\NLP\\document similarity\\train\\invoice_102856.pdf']\n",
    "test_invoice_path = r'C:\\Users\\91830\\OneDrive\\Desktop\\NLP\\document similarity\\test\\invoice_102857.pdf'\n",
    "\n",
    "# Extract text from existing invoices\n",
    "train_invoices_texts = [extracting_text_from_invoicepdf(path) for path in train_invoice_paths]\n",
    "\n",
    "# Extract text from new invoice\n",
    "test_invoice_text = extracting_text_from_invoicepdf(test_invoice_path)\n",
    "\n",
    "# Find the most similar invoice\n",
    "most_similar_index = finding_most_similar_invoice(test_invoice_text, train_invoices_texts)\n",
    "print(f'The most similar invoice is: {train_invoice_paths[most_similar_index]}')"
   ]
  }
 ],
 "metadata": {
  "kernelspec": {
   "display_name": "Python 3",
   "language": "python",
   "name": "python3"
  },
  "language_info": {
   "codemirror_mode": {
    "name": "ipython",
    "version": 3
   },
   "file_extension": ".py",
   "mimetype": "text/x-python",
   "name": "python",
   "nbconvert_exporter": "python",
   "pygments_lexer": "ipython3",
   "version": "3.12.1"
  }
 },
 "nbformat": 4,
 "nbformat_minor": 2
}
