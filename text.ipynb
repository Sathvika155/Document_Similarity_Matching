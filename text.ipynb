{
 "cells": [
  {
   "cell_type": "code",
   "execution_count": 9,
   "metadata": {},
   "outputs": [],
   "source": [
    "\n",
    "import fitz  # PyMuPDF\n",
    "\n",
    "def extract_text_from_pdf(pdf_path):\n",
    "    document = fitz.open(pdf_path)\n",
    "    text = \"\"\n",
    "    for page_num in range(len(document)):\n",
    "        page = document.load_page(page_num)\n",
    "        text += page.get_text()\n",
    "    return text"
   ]
  },
  {
   "cell_type": "code",
   "execution_count": 10,
   "metadata": {},
   "outputs": [],
   "source": [
    "from sklearn.feature_extraction.text import TfidfVectorizer\n",
    "\n",
    "def vectorize_texts(texts):\n",
    "    vectorizer = TfidfVectorizer()\n",
    "    vectors = vectorizer.fit_transform(texts)\n",
    "    return vectors"
   ]
  },
  {
   "cell_type": "code",
   "execution_count": 11,
   "metadata": {},
   "outputs": [],
   "source": [
    "from sklearn.metrics.pairwise import cosine_similarity\n",
    "\n",
    "def find_most_similar_invoice(new_invoice_text, existing_invoices_texts):\n",
    "    texts = existing_invoices_texts + [new_invoice_text]\n",
    "    vectors = vectorize_texts(texts)\n",
    "    similarities = cosine_similarity(vectors[-1], vectors[:-1])\n",
    "    most_similar_index = similarities.argmax()\n",
    "    return most_similar_index"
   ]
  },
  {
   "cell_type": "code",
   "execution_count": 12,
   "metadata": {},
   "outputs": [
    {
     "name": "stdout",
     "output_type": "stream",
     "text": [
      "The most similar invoice is: C:\\Users\\91830\\OneDrive\\Desktop\\NLP\\document similarity\\train\\invoice_77073.pdf\n"
     ]
    }
   ],
   "source": [
    "# Paths to existing invoices and new invoice\n",
    "existing_invoice_paths = [r'C:\\Users\\91830\\OneDrive\\Desktop\\NLP\\document similarity\\train\\2024.03.15_0954.pdf',\n",
    "                          r'C:\\Users\\91830\\OneDrive\\Desktop\\NLP\\document similarity\\train\\2024.03.15_1145.pdf',\n",
    "                          r'C:\\Users\\91830\\OneDrive\\Desktop\\NLP\\document similarity\\train\\Faller_8.PDF',\n",
    "                          r'C:\\Users\\91830\\OneDrive\\Desktop\\NLP\\document similarity\\train\\invoice_77073.pdf',\n",
    "                          r'C:\\Users\\91830\\OneDrive\\Desktop\\NLP\\document similarity\\train\\invoice_102856.pdf']\n",
    "new_invoice_path = r'C:\\Users\\91830\\OneDrive\\Desktop\\NLP\\document similarity\\test\\invoice_77098.pdf'\n",
    "\n",
    "# Extract text from existing invoices\n",
    "existing_invoices_texts = [extract_text_from_pdf(path) for path in existing_invoice_paths]\n",
    "\n",
    "# Extract text from new invoice\n",
    "new_invoice_text = extract_text_from_pdf(new_invoice_path)\n",
    "\n",
    "# Find the most similar invoice\n",
    "most_similar_index = find_most_similar_invoice(new_invoice_text, existing_invoices_texts)\n",
    "print(f'The most similar invoice is: {existing_invoice_paths[most_similar_index]}')"
   ]
  }
 ],
 "metadata": {
  "kernelspec": {
   "display_name": "Python 3",
   "language": "python",
   "name": "python3"
  },
  "language_info": {
   "codemirror_mode": {
    "name": "ipython",
    "version": 3
   },
   "file_extension": ".py",
   "mimetype": "text/x-python",
   "name": "python",
   "nbconvert_exporter": "python",
   "pygments_lexer": "ipython3",
   "version": "3.12.1"
  }
 },
 "nbformat": 4,
 "nbformat_minor": 2
}
